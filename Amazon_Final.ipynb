{
  "cells": [
    {
      "cell_type": "code",
      "execution_count": 3,
      "id": "daf36c4b",
      "metadata": {
        "id": "daf36c4b"
      },
      "outputs": [],
      "source": [
        "import pandas as pd\n",
        "import numpy as np\n",
        "import cv2 as cv\n",
        "import matplotlib.pyplot as plt\n",
        "%matplotlib inline\n",
        "import seaborn as sns"
      ]
    },
    {
      "cell_type": "code",
      "execution_count": 1,
      "metadata": {
        "id": "K95qX0MiBOHJ",
        "colab": {
          "base_uri": "https://localhost:8080/"
        },
        "outputId": "6623d886-7923-4313-ec2e-139185a93d22"
      },
      "outputs": [
        {
          "output_type": "stream",
          "name": "stdout",
          "text": [
            "Mounted at /content/drive\n"
          ]
        }
      ],
      "source": [
        "from google.colab import drive\n",
        "drive.mount('/content/drive')"
      ],
      "id": "K95qX0MiBOHJ"
    },
    {
      "cell_type": "code",
      "source": [
        "data = pd.read_csv(\"/content/drive/MyDrive/data/dataset/train.csv\")\n",
        "test_data= pd.read_csv(\"/content/drive/MyDrive/data/dataset/test.csv\")\n",
        "# df = pd.read_csv('hepatitis.csv', low_memory=False)"
      ],
      "metadata": {
        "id": "cjbVh52Lv1H9"
      },
      "execution_count": 4,
      "outputs": [],
      "id": "cjbVh52Lv1H9"
    },
    {
      "cell_type": "markdown",
      "id": "4d6ea68d",
      "metadata": {
        "id": "4d6ea68d"
      },
      "source": [
        "MEAN PREDICTION"
      ]
    },
    {
      "cell_type": "code",
      "execution_count": 6,
      "id": "53ba6bd5",
      "metadata": {
        "scrolled": false,
        "colab": {
          "base_uri": "https://localhost:8080/",
          "height": 624
        },
        "id": "53ba6bd5",
        "outputId": "f6d96fd7-2376-4d44-e6aa-9b85fd45a99d"
      },
      "outputs": [
        {
          "output_type": "execute_result",
          "data": {
            "text/plain": [
              "         PRODUCT_ID                                              TITLE  \\\n",
              "1           2673191  Marks & Spencer Girls' Pyjama Sets T86_2561C_N...   \n",
              "2           2765088  PRIKNIK Horn Red Electric Air Horn Compressor ...   \n",
              "4            283658  The United Empire Loyalists: A Chronicle of th...   \n",
              "6            413758                      Ungifted: My Life and Journey   \n",
              "8           2050239  PUMA Cali Sport Clean Women's Sneakers White L...   \n",
              "...             ...                                                ...   \n",
              "2249688      575288                            Along a Burning Highway   \n",
              "2249690     1096345  United Colors of Benetton United Dreams Love Y...   \n",
              "2249691      571566  Comedy Wildlife Photography Awards: The perfec...   \n",
              "2249692     2690647  Olmeo 14 LED Round Fog Light 4 Inches Waterpro...   \n",
              "2249694     2766635  (3PCS) Goose Game Cute Cartoon Enamel Pins, Fu...   \n",
              "\n",
              "                                             BULLET_POINTS  \\\n",
              "1        [Harry Potter Hedwig Pyjamas (6-16 Yrs),100% c...   \n",
              "2        [Loud Dual Tone Trumpet Horn, Compatible With ...   \n",
              "4                                                      NaN   \n",
              "6                                                      NaN   \n",
              "8        [Style Name:-Cali Sport Clean Women's Sneakers...   \n",
              "...                                                    ...   \n",
              "2249688                                                NaN   \n",
              "2249690  [Quantity: 80ml; The new floral and feminine f...   \n",
              "2249691                                                NaN   \n",
              "2249692  [Easy to install;,Round shape 14LED spot worki...   \n",
              "2249694  [❤ [Inspiration] Inspired by the Untitled Goos...   \n",
              "\n",
              "                                               DESCRIPTION  PRODUCT_TYPE_ID  \\\n",
              "1                                                      NaN             2755   \n",
              "2        Specifications: Color: Red, Material: Aluminiu...             7537   \n",
              "4                                                      NaN             6112   \n",
              "6                                                      NaN               23   \n",
              "8                                                      NaN             3302   \n",
              "...                                                    ...              ...   \n",
              "2249688  Welcome to the wonderfully Wicked World of Aut...              123   \n",
              "2249690                                                NaN              253   \n",
              "2249691                                                NaN             2968   \n",
              "2249692                                                NaN             7978   \n",
              "2249694  <p><b>[Brand]: </b>XVIEONR</p> <p><br></p> <p>...             3413   \n",
              "\n",
              "         PRODUCT_LENGTH  \n",
              "1            393.700000  \n",
              "2            748.031495  \n",
              "4            598.424000  \n",
              "6            598.000000  \n",
              "8            393.700000  \n",
              "...                 ...  \n",
              "2249688      598.424000  \n",
              "2249690      600.000000  \n",
              "2249691      271.250000  \n",
              "2249692      590.550000  \n",
              "2249694      125.984252  \n",
              "\n",
              "[1301395 rows x 6 columns]"
            ],
            "text/html": [
              "\n",
              "  <div id=\"df-f403b956-043d-41b3-a490-9ce79f1ae14d\">\n",
              "    <div class=\"colab-df-container\">\n",
              "      <div>\n",
              "<style scoped>\n",
              "    .dataframe tbody tr th:only-of-type {\n",
              "        vertical-align: middle;\n",
              "    }\n",
              "\n",
              "    .dataframe tbody tr th {\n",
              "        vertical-align: top;\n",
              "    }\n",
              "\n",
              "    .dataframe thead th {\n",
              "        text-align: right;\n",
              "    }\n",
              "</style>\n",
              "<table border=\"1\" class=\"dataframe\">\n",
              "  <thead>\n",
              "    <tr style=\"text-align: right;\">\n",
              "      <th></th>\n",
              "      <th>PRODUCT_ID</th>\n",
              "      <th>TITLE</th>\n",
              "      <th>BULLET_POINTS</th>\n",
              "      <th>DESCRIPTION</th>\n",
              "      <th>PRODUCT_TYPE_ID</th>\n",
              "      <th>PRODUCT_LENGTH</th>\n",
              "    </tr>\n",
              "  </thead>\n",
              "  <tbody>\n",
              "    <tr>\n",
              "      <th>1</th>\n",
              "      <td>2673191</td>\n",
              "      <td>Marks &amp; Spencer Girls' Pyjama Sets T86_2561C_N...</td>\n",
              "      <td>[Harry Potter Hedwig Pyjamas (6-16 Yrs),100% c...</td>\n",
              "      <td>NaN</td>\n",
              "      <td>2755</td>\n",
              "      <td>393.700000</td>\n",
              "    </tr>\n",
              "    <tr>\n",
              "      <th>2</th>\n",
              "      <td>2765088</td>\n",
              "      <td>PRIKNIK Horn Red Electric Air Horn Compressor ...</td>\n",
              "      <td>[Loud Dual Tone Trumpet Horn, Compatible With ...</td>\n",
              "      <td>Specifications: Color: Red, Material: Aluminiu...</td>\n",
              "      <td>7537</td>\n",
              "      <td>748.031495</td>\n",
              "    </tr>\n",
              "    <tr>\n",
              "      <th>4</th>\n",
              "      <td>283658</td>\n",
              "      <td>The United Empire Loyalists: A Chronicle of th...</td>\n",
              "      <td>NaN</td>\n",
              "      <td>NaN</td>\n",
              "      <td>6112</td>\n",
              "      <td>598.424000</td>\n",
              "    </tr>\n",
              "    <tr>\n",
              "      <th>6</th>\n",
              "      <td>413758</td>\n",
              "      <td>Ungifted: My Life and Journey</td>\n",
              "      <td>NaN</td>\n",
              "      <td>NaN</td>\n",
              "      <td>23</td>\n",
              "      <td>598.000000</td>\n",
              "    </tr>\n",
              "    <tr>\n",
              "      <th>8</th>\n",
              "      <td>2050239</td>\n",
              "      <td>PUMA Cali Sport Clean Women's Sneakers White L...</td>\n",
              "      <td>[Style Name:-Cali Sport Clean Women's Sneakers...</td>\n",
              "      <td>NaN</td>\n",
              "      <td>3302</td>\n",
              "      <td>393.700000</td>\n",
              "    </tr>\n",
              "    <tr>\n",
              "      <th>...</th>\n",
              "      <td>...</td>\n",
              "      <td>...</td>\n",
              "      <td>...</td>\n",
              "      <td>...</td>\n",
              "      <td>...</td>\n",
              "      <td>...</td>\n",
              "    </tr>\n",
              "    <tr>\n",
              "      <th>2249688</th>\n",
              "      <td>575288</td>\n",
              "      <td>Along a Burning Highway</td>\n",
              "      <td>NaN</td>\n",
              "      <td>Welcome to the wonderfully Wicked World of Aut...</td>\n",
              "      <td>123</td>\n",
              "      <td>598.424000</td>\n",
              "    </tr>\n",
              "    <tr>\n",
              "      <th>2249690</th>\n",
              "      <td>1096345</td>\n",
              "      <td>United Colors of Benetton United Dreams Love Y...</td>\n",
              "      <td>[Quantity: 80ml; The new floral and feminine f...</td>\n",
              "      <td>NaN</td>\n",
              "      <td>253</td>\n",
              "      <td>600.000000</td>\n",
              "    </tr>\n",
              "    <tr>\n",
              "      <th>2249691</th>\n",
              "      <td>571566</td>\n",
              "      <td>Comedy Wildlife Photography Awards: The perfec...</td>\n",
              "      <td>NaN</td>\n",
              "      <td>NaN</td>\n",
              "      <td>2968</td>\n",
              "      <td>271.250000</td>\n",
              "    </tr>\n",
              "    <tr>\n",
              "      <th>2249692</th>\n",
              "      <td>2690647</td>\n",
              "      <td>Olmeo 14 LED Round Fog Light 4 Inches Waterpro...</td>\n",
              "      <td>[Easy to install;,Round shape 14LED spot worki...</td>\n",
              "      <td>NaN</td>\n",
              "      <td>7978</td>\n",
              "      <td>590.550000</td>\n",
              "    </tr>\n",
              "    <tr>\n",
              "      <th>2249694</th>\n",
              "      <td>2766635</td>\n",
              "      <td>(3PCS) Goose Game Cute Cartoon Enamel Pins, Fu...</td>\n",
              "      <td>[❤ [Inspiration] Inspired by the Untitled Goos...</td>\n",
              "      <td>&lt;p&gt;&lt;b&gt;[Brand]: &lt;/b&gt;XVIEONR&lt;/p&gt; &lt;p&gt;&lt;br&gt;&lt;/p&gt; &lt;p&gt;...</td>\n",
              "      <td>3413</td>\n",
              "      <td>125.984252</td>\n",
              "    </tr>\n",
              "  </tbody>\n",
              "</table>\n",
              "<p>1301395 rows × 6 columns</p>\n",
              "</div>\n",
              "      <button class=\"colab-df-convert\" onclick=\"convertToInteractive('df-f403b956-043d-41b3-a490-9ce79f1ae14d')\"\n",
              "              title=\"Convert this dataframe to an interactive table.\"\n",
              "              style=\"display:none;\">\n",
              "        \n",
              "  <svg xmlns=\"http://www.w3.org/2000/svg\" height=\"24px\"viewBox=\"0 0 24 24\"\n",
              "       width=\"24px\">\n",
              "    <path d=\"M0 0h24v24H0V0z\" fill=\"none\"/>\n",
              "    <path d=\"M18.56 5.44l.94 2.06.94-2.06 2.06-.94-2.06-.94-.94-2.06-.94 2.06-2.06.94zm-11 1L8.5 8.5l.94-2.06 2.06-.94-2.06-.94L8.5 2.5l-.94 2.06-2.06.94zm10 10l.94 2.06.94-2.06 2.06-.94-2.06-.94-.94-2.06-.94 2.06-2.06.94z\"/><path d=\"M17.41 7.96l-1.37-1.37c-.4-.4-.92-.59-1.43-.59-.52 0-1.04.2-1.43.59L10.3 9.45l-7.72 7.72c-.78.78-.78 2.05 0 2.83L4 21.41c.39.39.9.59 1.41.59.51 0 1.02-.2 1.41-.59l7.78-7.78 2.81-2.81c.8-.78.8-2.07 0-2.86zM5.41 20L4 18.59l7.72-7.72 1.47 1.35L5.41 20z\"/>\n",
              "  </svg>\n",
              "      </button>\n",
              "      \n",
              "  <style>\n",
              "    .colab-df-container {\n",
              "      display:flex;\n",
              "      flex-wrap:wrap;\n",
              "      gap: 12px;\n",
              "    }\n",
              "\n",
              "    .colab-df-convert {\n",
              "      background-color: #E8F0FE;\n",
              "      border: none;\n",
              "      border-radius: 50%;\n",
              "      cursor: pointer;\n",
              "      display: none;\n",
              "      fill: #1967D2;\n",
              "      height: 32px;\n",
              "      padding: 0 0 0 0;\n",
              "      width: 32px;\n",
              "    }\n",
              "\n",
              "    .colab-df-convert:hover {\n",
              "      background-color: #E2EBFA;\n",
              "      box-shadow: 0px 1px 2px rgba(60, 64, 67, 0.3), 0px 1px 3px 1px rgba(60, 64, 67, 0.15);\n",
              "      fill: #174EA6;\n",
              "    }\n",
              "\n",
              "    [theme=dark] .colab-df-convert {\n",
              "      background-color: #3B4455;\n",
              "      fill: #D2E3FC;\n",
              "    }\n",
              "\n",
              "    [theme=dark] .colab-df-convert:hover {\n",
              "      background-color: #434B5C;\n",
              "      box-shadow: 0px 1px 3px 1px rgba(0, 0, 0, 0.15);\n",
              "      filter: drop-shadow(0px 1px 2px rgba(0, 0, 0, 0.3));\n",
              "      fill: #FFFFFF;\n",
              "    }\n",
              "  </style>\n",
              "\n",
              "      <script>\n",
              "        const buttonEl =\n",
              "          document.querySelector('#df-f403b956-043d-41b3-a490-9ce79f1ae14d button.colab-df-convert');\n",
              "        buttonEl.style.display =\n",
              "          google.colab.kernel.accessAllowed ? 'block' : 'none';\n",
              "\n",
              "        async function convertToInteractive(key) {\n",
              "          const element = document.querySelector('#df-f403b956-043d-41b3-a490-9ce79f1ae14d');\n",
              "          const dataTable =\n",
              "            await google.colab.kernel.invokeFunction('convertToInteractive',\n",
              "                                                     [key], {});\n",
              "          if (!dataTable) return;\n",
              "\n",
              "          const docLinkHtml = 'Like what you see? Visit the ' +\n",
              "            '<a target=\"_blank\" href=https://colab.research.google.com/notebooks/data_table.ipynb>data table notebook</a>'\n",
              "            + ' to learn more about interactive tables.';\n",
              "          element.innerHTML = '';\n",
              "          dataTable['output_type'] = 'display_data';\n",
              "          await google.colab.output.renderOutput(dataTable, element);\n",
              "          const docLink = document.createElement('div');\n",
              "          docLink.innerHTML = docLinkHtml;\n",
              "          element.appendChild(docLink);\n",
              "        }\n",
              "      </script>\n",
              "    </div>\n",
              "  </div>\n",
              "  "
            ]
          },
          "metadata": {},
          "execution_count": 6
        }
      ],
      "source": [
        "# df2= new.drop(['zscore'],axis=1)\n",
        "df2= data.copy()\n",
        "df2=df2[df2['PRODUCT_LENGTH']<766]\n",
        "df2"
      ]
    },
    {
      "cell_type": "code",
      "source": [
        "df2= df2.drop(['TITLE','BULLET_POINTS','DESCRIPTION','PRODUCT_ID'],axis=1)"
      ],
      "metadata": {
        "id": "oW_FeLMIRgOp"
      },
      "id": "oW_FeLMIRgOp",
      "execution_count": 8,
      "outputs": []
    },
    {
      "cell_type": "code",
      "source": [
        "df2.shape"
      ],
      "metadata": {
        "colab": {
          "base_uri": "https://localhost:8080/"
        },
        "id": "L_1vYRnURsQR",
        "outputId": "43b933c4-0a18-47b6-b14d-7a79f6aefe0a"
      },
      "id": "L_1vYRnURsQR",
      "execution_count": 10,
      "outputs": [
        {
          "output_type": "execute_result",
          "data": {
            "text/plain": [
              "(1301395, 2)"
            ]
          },
          "metadata": {},
          "execution_count": 10
        }
      ]
    },
    {
      "cell_type": "code",
      "execution_count": 11,
      "id": "c89d2aee",
      "metadata": {
        "colab": {
          "base_uri": "https://localhost:8080/"
        },
        "id": "c89d2aee",
        "outputId": "2b624c20-4eaf-469d-fd49-e4170d7b68e5"
      },
      "outputs": [
        {
          "output_type": "stream",
          "name": "stdout",
          "text": [
            "   PRODUCT_TYPE_ID  PRODUCT_LENGTH\n",
            "0                0      450.314104\n",
            "1                1      571.087619\n",
            "2                2      414.399079\n",
            "3                3      428.124789\n",
            "4                4      409.042132\n"
          ]
        }
      ],
      "source": [
        "grouped = df2.groupby(['PRODUCT_TYPE_ID'])['PRODUCT_LENGTH'].mean().reset_index()\n",
        "\n",
        "# Preview the first few rows of the grouped dataframe\n",
        "print(grouped.head())\n"
      ]
    },
    {
      "cell_type": "code",
      "execution_count": 12,
      "id": "1727afd7",
      "metadata": {
        "colab": {
          "base_uri": "https://localhost:8080/"
        },
        "id": "1727afd7",
        "outputId": "4eadb0d7-1ae4-4389-8615-d1e778539b93"
      },
      "outputs": [
        {
          "output_type": "stream",
          "name": "stdout",
          "text": [
            "      PRODUCT_TYPE_ID  PRODUCT_LENGTH\n",
            "2566             2755      435.209563\n"
          ]
        }
      ],
      "source": [
        "print( grouped[grouped['PRODUCT_TYPE_ID']==2755] )"
      ]
    },
    {
      "cell_type": "code",
      "execution_count": null,
      "id": "98fbd820",
      "metadata": {
        "id": "98fbd820",
        "outputId": "05b02922-368d-40ee-f335-8cd8111c2bad"
      },
      "outputs": [
        {
          "data": {
            "text/html": [
              "<div>\n",
              "<style scoped>\n",
              "    .dataframe tbody tr th:only-of-type {\n",
              "        vertical-align: middle;\n",
              "    }\n",
              "\n",
              "    .dataframe tbody tr th {\n",
              "        vertical-align: top;\n",
              "    }\n",
              "\n",
              "    .dataframe thead th {\n",
              "        text-align: right;\n",
              "    }\n",
              "</style>\n",
              "<table border=\"1\" class=\"dataframe\">\n",
              "  <thead>\n",
              "    <tr style=\"text-align: right;\">\n",
              "      <th></th>\n",
              "      <th>PRODUCT_TYPE_ID</th>\n",
              "      <th>PRODUCT_LENGTH</th>\n",
              "    </tr>\n",
              "  </thead>\n",
              "  <tbody>\n",
              "    <tr>\n",
              "      <th>1</th>\n",
              "      <td>2755</td>\n",
              "      <td>393.700000</td>\n",
              "    </tr>\n",
              "    <tr>\n",
              "      <th>2</th>\n",
              "      <td>7537</td>\n",
              "      <td>748.031495</td>\n",
              "    </tr>\n",
              "    <tr>\n",
              "      <th>4</th>\n",
              "      <td>6112</td>\n",
              "      <td>598.424000</td>\n",
              "    </tr>\n",
              "    <tr>\n",
              "      <th>6</th>\n",
              "      <td>23</td>\n",
              "      <td>598.000000</td>\n",
              "    </tr>\n",
              "    <tr>\n",
              "      <th>8</th>\n",
              "      <td>3302</td>\n",
              "      <td>393.700000</td>\n",
              "    </tr>\n",
              "  </tbody>\n",
              "</table>\n",
              "</div>"
            ],
            "text/plain": [
              "   PRODUCT_TYPE_ID  PRODUCT_LENGTH\n",
              "1             2755      393.700000\n",
              "2             7537      748.031495\n",
              "4             6112      598.424000\n",
              "6               23      598.000000\n",
              "8             3302      393.700000"
            ]
          },
          "execution_count": 190,
          "metadata": {},
          "output_type": "execute_result"
        }
      ],
      "source": [
        "df2.head()"
      ]
    },
    {
      "cell_type": "code",
      "execution_count": null,
      "id": "c046288b",
      "metadata": {
        "id": "c046288b",
        "outputId": "11dfd587-abd1-4924-9374-782149637c61"
      },
      "outputs": [
        {
          "data": {
            "text/plain": [
              "41.509563000000014"
            ]
          },
          "execution_count": 191,
          "metadata": {},
          "output_type": "execute_result"
        }
      ],
      "source": [
        "435.209563 - 393.700000"
      ]
    },
    {
      "cell_type": "code",
      "execution_count": null,
      "id": "5aa67330",
      "metadata": {
        "id": "5aa67330"
      },
      "outputs": [],
      "source": [
        "# import pandas as pd\n",
        "\n",
        "# from sklearn.metrics import mean_absolute_percentage_error\n",
        "\n",
        "# # Calculate mean of target variable\n",
        "# mean_target = target_variable.mean()\n",
        "# # Create a new column to store predicted values\n",
        "# test_data['predicted'] = mean_target\n",
        "# #product length of group\n",
        "\n",
        "# mean_absolute_percentage_error(df2, grouped['PRODUCT_LENGTH'])  \n",
        "# # Evaluate model performance using mean squared error\n",
        "# mse = mean_squared_error(test_target_variable, test_data['predicted'])\n",
        "# print('Mean Squared Error:', mse)\n"
      ]
    },
    {
      "cell_type": "code",
      "execution_count": 13,
      "id": "c5ded129",
      "metadata": {
        "colab": {
          "base_uri": "https://localhost:8080/"
        },
        "id": "c5ded129",
        "outputId": "dd4b8356-3f98-45d6-fe0c-7168c7f36f24"
      },
      "outputs": [
        {
          "output_type": "stream",
          "name": "stdout",
          "text": [
            "   PRODUCT_TYPE_ID  PRODUCT_LENGTH_x  PRODUCT_LENGTH_y\n",
            "0             2755             393.7        435.209563\n",
            "1             2755             500.0        435.209563\n",
            "2             2755             600.0        435.209563\n",
            "3             2755             700.0        435.209563\n",
            "4             2755             700.0        435.209563\n"
          ]
        }
      ],
      "source": [
        "import pandas as pd\n",
        "\n",
        "# group by product ID and calculate the mean of product length\n",
        "grouped1 = df2.groupby(\"PRODUCT_TYPE_ID\")[\"PRODUCT_LENGTH\"].mean().reset_index()\n",
        "\n",
        "# sort the values by product ID\n",
        "grouped1 = grouped1.sort_values(\"PRODUCT_TYPE_ID\")\n",
        "\n",
        "# rename the columns to match the original names\n",
        "grouped1 = grouped1.rename(columns={\"PRODUCT_TYPE_ID\": \"PRODUCT_TYPE_ID\", \"PRODUCT_LENGTH\": \"PRODUCT_LENGTH\"})\n",
        "\n",
        "# merge the grouped dataframe with the original dataframe on product ID\n",
        "merged = pd.merge(df2, grouped1, on=\"PRODUCT_TYPE_ID\")\n",
        "\n",
        "# the mean of each product ID is added as a new column \"PRODUCT_LENGTH_MEAN\"\n",
        "print(merged.head())"
      ]
    },
    {
      "cell_type": "code",
      "source": [
        "merged['PRODUCT_LENGTH_y']"
      ],
      "metadata": {
        "colab": {
          "base_uri": "https://localhost:8080/"
        },
        "id": "OPOvVTZDSInm",
        "outputId": "f107cebd-0aa9-48de-ccd1-43eab9f30b68"
      },
      "id": "OPOvVTZDSInm",
      "execution_count": 14,
      "outputs": [
        {
          "output_type": "execute_result",
          "data": {
            "text/plain": [
              "0          435.209563\n",
              "1          435.209563\n",
              "2          435.209563\n",
              "3          435.209563\n",
              "4          435.209563\n",
              "              ...    \n",
              "1301390    750.000000\n",
              "1301391    629.921259\n",
              "1301392     39.000000\n",
              "1301393    500.000000\n",
              "1301394     43.307000\n",
              "Name: PRODUCT_LENGTH_y, Length: 1301395, dtype: float64"
            ]
          },
          "metadata": {},
          "execution_count": 14
        }
      ]
    },
    {
      "cell_type": "code",
      "source": [],
      "metadata": {
        "id": "aW0jhZzFSIkB"
      },
      "id": "aW0jhZzFSIkB",
      "execution_count": null,
      "outputs": []
    },
    {
      "cell_type": "code",
      "execution_count": null,
      "id": "ed4891e4",
      "metadata": {
        "id": "ed4891e4",
        "outputId": "3167dded-c9c3-47a1-8dee-5d3b37abe1f4"
      },
      "outputs": [
        {
          "data": {
            "text/plain": [
              "0          435.209563\n",
              "1          435.209563\n",
              "2          435.209563\n",
              "3          435.209563\n",
              "4          435.209563\n",
              "              ...    \n",
              "1301390    750.000000\n",
              "1301391    629.921259\n",
              "1301392     39.000000\n",
              "1301393    500.000000\n",
              "1301394     43.307000\n",
              "Name: PRODUCT_LENGTH_y, Length: 1301395, dtype: float64"
            ]
          },
          "execution_count": 206,
          "metadata": {},
          "output_type": "execute_result"
        }
      ],
      "source": [
        "merged['PRODUCT_LENGTH_y']"
      ]
    },
    {
      "cell_type": "code",
      "execution_count": null,
      "id": "079a04b5",
      "metadata": {
        "id": "079a04b5"
      },
      "outputs": [],
      "source": []
    },
    {
      "cell_type": "code",
      "execution_count": null,
      "id": "2f592862",
      "metadata": {
        "id": "2f592862",
        "outputId": "fa31072e-8f61-40b5-af9d-2eba15dd1222"
      },
      "outputs": [
        {
          "data": {
            "text/html": [
              "<div>\n",
              "<style scoped>\n",
              "    .dataframe tbody tr th:only-of-type {\n",
              "        vertical-align: middle;\n",
              "    }\n",
              "\n",
              "    .dataframe tbody tr th {\n",
              "        vertical-align: top;\n",
              "    }\n",
              "\n",
              "    .dataframe thead th {\n",
              "        text-align: right;\n",
              "    }\n",
              "</style>\n",
              "<table border=\"1\" class=\"dataframe\">\n",
              "  <thead>\n",
              "    <tr style=\"text-align: right;\">\n",
              "      <th></th>\n",
              "      <th>PRODUCT_TYPE_ID</th>\n",
              "      <th>PRODUCT_LENGTH</th>\n",
              "    </tr>\n",
              "  </thead>\n",
              "  <tbody>\n",
              "    <tr>\n",
              "      <th>11121</th>\n",
              "      <td>13415</td>\n",
              "      <td>386.250000</td>\n",
              "    </tr>\n",
              "    <tr>\n",
              "      <th>11122</th>\n",
              "      <td>13416</td>\n",
              "      <td>538.419938</td>\n",
              "    </tr>\n",
              "    <tr>\n",
              "      <th>11123</th>\n",
              "      <td>13417</td>\n",
              "      <td>525.000000</td>\n",
              "    </tr>\n",
              "    <tr>\n",
              "      <th>11124</th>\n",
              "      <td>13419</td>\n",
              "      <td>314.285714</td>\n",
              "    </tr>\n",
              "    <tr>\n",
              "      <th>11125</th>\n",
              "      <td>13420</td>\n",
              "      <td>447.637795</td>\n",
              "    </tr>\n",
              "  </tbody>\n",
              "</table>\n",
              "</div>"
            ],
            "text/plain": [
              "       PRODUCT_TYPE_ID  PRODUCT_LENGTH\n",
              "11121            13415      386.250000\n",
              "11122            13416      538.419938\n",
              "11123            13417      525.000000\n",
              "11124            13419      314.285714\n",
              "11125            13420      447.637795"
            ]
          },
          "execution_count": 204,
          "metadata": {},
          "output_type": "execute_result"
        }
      ],
      "source": [
        "grouped.tail()"
      ]
    },
    {
      "cell_type": "code",
      "execution_count": null,
      "id": "097b6d4d",
      "metadata": {
        "scrolled": true,
        "id": "097b6d4d",
        "outputId": "23723ba9-83e6-4c2f-ca6f-cefc296803b4"
      },
      "outputs": [
        {
          "data": {
            "text/plain": [
              "array([2755, 7537, 6112, ..., 5828, 4505, 9440], dtype=int64)"
            ]
          },
          "execution_count": 150,
          "metadata": {},
          "output_type": "execute_result"
        }
      ],
      "source": [
        "uniquetest=test['PRODUCT_TYPE_ID'].unique()\n",
        "uniquetest"
      ]
    },
    {
      "cell_type": "code",
      "execution_count": null,
      "id": "6d7f6604",
      "metadata": {
        "scrolled": false,
        "id": "6d7f6604"
      },
      "outputs": [],
      "source": [
        "# # filter the DataFrame to include only rows where col1 == 1650\n",
        "# filtered_df = test[test['PRODUCT_TYPE_ID']==2755]\n",
        "# print(filtered_df)\n",
        "# # calculate the mean of the filtered column\n",
        "# mean_filtered = filtered_df['PRODUCT_TYPE_ID'].mean()\n",
        "\n",
        "# print(mean_filtered)\n",
        "# # test['meanPTID']=test.loc[test['meanPTID']].mean()\n",
        "\n",
        "# # test.loc[test['PRODUCT_TYPE_ID'] == 1650, 'meanPTID'] = mean_filtered\n",
        "\n",
        "\n"
      ]
    },
    {
      "cell_type": "code",
      "execution_count": null,
      "id": "ae6f5f1c",
      "metadata": {
        "id": "ae6f5f1c"
      },
      "outputs": [],
      "source": []
    },
    {
      "cell_type": "code",
      "execution_count": null,
      "id": "d51d0052",
      "metadata": {
        "id": "d51d0052"
      },
      "outputs": [],
      "source": []
    },
    {
      "cell_type": "code",
      "execution_count": null,
      "id": "bba0439e",
      "metadata": {
        "id": "bba0439e"
      },
      "outputs": [],
      "source": []
    },
    {
      "cell_type": "code",
      "execution_count": null,
      "id": "d02f5dbc",
      "metadata": {
        "id": "d02f5dbc"
      },
      "outputs": [],
      "source": []
    },
    {
      "cell_type": "code",
      "execution_count": null,
      "id": "2c436925",
      "metadata": {
        "id": "2c436925"
      },
      "outputs": [],
      "source": []
    },
    {
      "cell_type": "code",
      "execution_count": null,
      "id": "8713fa17",
      "metadata": {
        "id": "8713fa17"
      },
      "outputs": [],
      "source": [
        "# test.loc[test['PRODUCT_TYPE_ID'] == 2755, 'mean'] = mean\n",
        "# test"
      ]
    },
    {
      "cell_type": "code",
      "execution_count": null,
      "id": "a495f264",
      "metadata": {
        "id": "a495f264"
      },
      "outputs": [],
      "source": [
        "# test[test[\"PRODUCT_TYPE_ID\"]==1650]"
      ]
    },
    {
      "cell_type": "code",
      "execution_count": 15,
      "id": "9d7c7a41",
      "metadata": {
        "scrolled": false,
        "colab": {
          "base_uri": "https://localhost:8080/"
        },
        "id": "9d7c7a41",
        "outputId": "28261da5-bd31-4c51-e254-440e262be0e7"
      },
      "outputs": [
        {
          "output_type": "execute_result",
          "data": {
            "text/plain": [
              "0           2755\n",
              "1           2755\n",
              "2           2755\n",
              "3           2755\n",
              "4           2755\n",
              "           ...  \n",
              "1301390     8235\n",
              "1301391    13306\n",
              "1301392     5828\n",
              "1301393     4505\n",
              "1301394     9440\n",
              "Name: PRODUCT_TYPE_ID, Length: 1301395, dtype: int64"
            ]
          },
          "metadata": {},
          "execution_count": 15
        }
      ],
      "source": [
        "X=merged['PRODUCT_TYPE_ID']\n",
        "X"
      ]
    },
    {
      "cell_type": "code",
      "execution_count": 16,
      "id": "e874b486",
      "metadata": {
        "colab": {
          "base_uri": "https://localhost:8080/"
        },
        "id": "e874b486",
        "outputId": "87eef9fb-1416-4ae1-af02-cb4e3dabfa77"
      },
      "outputs": [
        {
          "output_type": "execute_result",
          "data": {
            "text/plain": [
              "0          435.209563\n",
              "1          435.209563\n",
              "2          435.209563\n",
              "3          435.209563\n",
              "4          435.209563\n",
              "              ...    \n",
              "1301390    750.000000\n",
              "1301391    629.921259\n",
              "1301392     39.000000\n",
              "1301393    500.000000\n",
              "1301394     43.307000\n",
              "Name: PRODUCT_LENGTH_y, Length: 1301395, dtype: float64"
            ]
          },
          "metadata": {},
          "execution_count": 16
        }
      ],
      "source": [
        "y=merged['PRODUCT_LENGTH_y']\n",
        "y"
      ]
    },
    {
      "cell_type": "code",
      "source": [
        "X= X.values.reshape(-1,1)"
      ],
      "metadata": {
        "id": "nKYbtZoHS4y8"
      },
      "id": "nKYbtZoHS4y8",
      "execution_count": 19,
      "outputs": []
    },
    {
      "cell_type": "code",
      "source": [
        "X"
      ],
      "metadata": {
        "colab": {
          "base_uri": "https://localhost:8080/"
        },
        "id": "zydkJUBITD5q",
        "outputId": "bb351c01-e7e1-4000-8194-3408804c4ed1"
      },
      "id": "zydkJUBITD5q",
      "execution_count": 20,
      "outputs": [
        {
          "output_type": "execute_result",
          "data": {
            "text/plain": [
              "array([[2755],\n",
              "       [2755],\n",
              "       [2755],\n",
              "       ...,\n",
              "       [5828],\n",
              "       [4505],\n",
              "       [9440]])"
            ]
          },
          "metadata": {},
          "execution_count": 20
        }
      ]
    },
    {
      "cell_type": "code",
      "source": [],
      "metadata": {
        "id": "iA94weFNTFFv"
      },
      "id": "iA94weFNTFFv",
      "execution_count": null,
      "outputs": []
    },
    {
      "cell_type": "code",
      "execution_count": 21,
      "id": "9f59259b",
      "metadata": {
        "colab": {
          "base_uri": "https://localhost:8080/",
          "height": 74
        },
        "id": "9f59259b",
        "outputId": "7784d9a5-bbdc-4f2f-9d01-5839830d5daf"
      },
      "outputs": [
        {
          "output_type": "execute_result",
          "data": {
            "text/plain": [
              "LinearRegression()"
            ],
            "text/html": [
              "<style>#sk-container-id-1 {color: black;background-color: white;}#sk-container-id-1 pre{padding: 0;}#sk-container-id-1 div.sk-toggleable {background-color: white;}#sk-container-id-1 label.sk-toggleable__label {cursor: pointer;display: block;width: 100%;margin-bottom: 0;padding: 0.3em;box-sizing: border-box;text-align: center;}#sk-container-id-1 label.sk-toggleable__label-arrow:before {content: \"▸\";float: left;margin-right: 0.25em;color: #696969;}#sk-container-id-1 label.sk-toggleable__label-arrow:hover:before {color: black;}#sk-container-id-1 div.sk-estimator:hover label.sk-toggleable__label-arrow:before {color: black;}#sk-container-id-1 div.sk-toggleable__content {max-height: 0;max-width: 0;overflow: hidden;text-align: left;background-color: #f0f8ff;}#sk-container-id-1 div.sk-toggleable__content pre {margin: 0.2em;color: black;border-radius: 0.25em;background-color: #f0f8ff;}#sk-container-id-1 input.sk-toggleable__control:checked~div.sk-toggleable__content {max-height: 200px;max-width: 100%;overflow: auto;}#sk-container-id-1 input.sk-toggleable__control:checked~label.sk-toggleable__label-arrow:before {content: \"▾\";}#sk-container-id-1 div.sk-estimator input.sk-toggleable__control:checked~label.sk-toggleable__label {background-color: #d4ebff;}#sk-container-id-1 div.sk-label input.sk-toggleable__control:checked~label.sk-toggleable__label {background-color: #d4ebff;}#sk-container-id-1 input.sk-hidden--visually {border: 0;clip: rect(1px 1px 1px 1px);clip: rect(1px, 1px, 1px, 1px);height: 1px;margin: -1px;overflow: hidden;padding: 0;position: absolute;width: 1px;}#sk-container-id-1 div.sk-estimator {font-family: monospace;background-color: #f0f8ff;border: 1px dotted black;border-radius: 0.25em;box-sizing: border-box;margin-bottom: 0.5em;}#sk-container-id-1 div.sk-estimator:hover {background-color: #d4ebff;}#sk-container-id-1 div.sk-parallel-item::after {content: \"\";width: 100%;border-bottom: 1px solid gray;flex-grow: 1;}#sk-container-id-1 div.sk-label:hover label.sk-toggleable__label {background-color: #d4ebff;}#sk-container-id-1 div.sk-serial::before {content: \"\";position: absolute;border-left: 1px solid gray;box-sizing: border-box;top: 0;bottom: 0;left: 50%;z-index: 0;}#sk-container-id-1 div.sk-serial {display: flex;flex-direction: column;align-items: center;background-color: white;padding-right: 0.2em;padding-left: 0.2em;position: relative;}#sk-container-id-1 div.sk-item {position: relative;z-index: 1;}#sk-container-id-1 div.sk-parallel {display: flex;align-items: stretch;justify-content: center;background-color: white;position: relative;}#sk-container-id-1 div.sk-item::before, #sk-container-id-1 div.sk-parallel-item::before {content: \"\";position: absolute;border-left: 1px solid gray;box-sizing: border-box;top: 0;bottom: 0;left: 50%;z-index: -1;}#sk-container-id-1 div.sk-parallel-item {display: flex;flex-direction: column;z-index: 1;position: relative;background-color: white;}#sk-container-id-1 div.sk-parallel-item:first-child::after {align-self: flex-end;width: 50%;}#sk-container-id-1 div.sk-parallel-item:last-child::after {align-self: flex-start;width: 50%;}#sk-container-id-1 div.sk-parallel-item:only-child::after {width: 0;}#sk-container-id-1 div.sk-dashed-wrapped {border: 1px dashed gray;margin: 0 0.4em 0.5em 0.4em;box-sizing: border-box;padding-bottom: 0.4em;background-color: white;}#sk-container-id-1 div.sk-label label {font-family: monospace;font-weight: bold;display: inline-block;line-height: 1.2em;}#sk-container-id-1 div.sk-label-container {text-align: center;}#sk-container-id-1 div.sk-container {/* jupyter's `normalize.less` sets `[hidden] { display: none; }` but bootstrap.min.css set `[hidden] { display: none !important; }` so we also need the `!important` here to be able to override the default hidden behavior on the sphinx rendered scikit-learn.org. See: https://github.com/scikit-learn/scikit-learn/issues/21755 */display: inline-block !important;position: relative;}#sk-container-id-1 div.sk-text-repr-fallback {display: none;}</style><div id=\"sk-container-id-1\" class=\"sk-top-container\"><div class=\"sk-text-repr-fallback\"><pre>LinearRegression()</pre><b>In a Jupyter environment, please rerun this cell to show the HTML representation or trust the notebook. <br />On GitHub, the HTML representation is unable to render, please try loading this page with nbviewer.org.</b></div><div class=\"sk-container\" hidden><div class=\"sk-item\"><div class=\"sk-estimator sk-toggleable\"><input class=\"sk-toggleable__control sk-hidden--visually\" id=\"sk-estimator-id-1\" type=\"checkbox\" checked><label for=\"sk-estimator-id-1\" class=\"sk-toggleable__label sk-toggleable__label-arrow\">LinearRegression</label><div class=\"sk-toggleable__content\"><pre>LinearRegression()</pre></div></div></div></div></div>"
            ]
          },
          "metadata": {},
          "execution_count": 21
        }
      ],
      "source": [
        "# Create linear regression object\n",
        "from sklearn import linear_model\n",
        "reg = linear_model.LinearRegression()\n",
        "reg.fit(X,y)"
      ]
    },
    {
      "cell_type": "code",
      "execution_count": 22,
      "id": "5e9fa58a",
      "metadata": {
        "colab": {
          "base_uri": "https://localhost:8080/",
          "height": 165
        },
        "id": "5e9fa58a",
        "outputId": "57f86ae6-593e-4d4d-b643-411c1e7dc3a5"
      },
      "outputs": [
        {
          "output_type": "error",
          "ename": "NameError",
          "evalue": "ignored",
          "traceback": [
            "\u001b[0;31m---------------------------------------------------------------------------\u001b[0m",
            "\u001b[0;31mNameError\u001b[0m                                 Traceback (most recent call last)",
            "\u001b[0;32m<ipython-input-22-96c729c16955>\u001b[0m in \u001b[0;36m<cell line: 1>\u001b[0;34m()\u001b[0m\n\u001b[0;32m----> 1\u001b[0;31m \u001b[0mpickle\u001b[0m\u001b[0;34m.\u001b[0m\u001b[0mdump\u001b[0m\u001b[0;34m(\u001b[0m\u001b[0mreg\u001b[0m\u001b[0;34m,\u001b[0m \u001b[0mopen\u001b[0m\u001b[0;34m(\u001b[0m\u001b[0;34m'model.pkl'\u001b[0m\u001b[0;34m,\u001b[0m\u001b[0;34m'wb'\u001b[0m\u001b[0;34m)\u001b[0m\u001b[0;34m)\u001b[0m\u001b[0;34m\u001b[0m\u001b[0;34m\u001b[0m\u001b[0m\n\u001b[0m",
            "\u001b[0;31mNameError\u001b[0m: name 'pickle' is not defined"
          ]
        }
      ],
      "source": [
        "pickle.dump(reg, open('model.pkl','wb'))"
      ]
    },
    {
      "cell_type": "code",
      "execution_count": null,
      "id": "90bc6f21",
      "metadata": {
        "id": "90bc6f21"
      },
      "outputs": [],
      "source": [
        "from sklearn.metrics import mean_squared_error\n",
        "target_variable = test['PRODUCT_LENGTH']"
      ]
    },
    {
      "cell_type": "code",
      "execution_count": null,
      "id": "48441a5d",
      "metadata": {
        "id": "48441a5d",
        "outputId": "d08abc86-6e1f-4481-80d1-f30fcf76a140"
      },
      "outputs": [
        {
          "data": {
            "text/plain": [
              "981.8800192979227"
            ]
          },
          "execution_count": 43,
          "metadata": {},
          "output_type": "execute_result"
        }
      ],
      "source": [
        "mean_target = target_variable.mean()\n",
        "mean_target"
      ]
    },
    {
      "cell_type": "code",
      "source": [],
      "metadata": {
        "id": "tDed6S0fTSVG"
      },
      "id": "tDed6S0fTSVG",
      "execution_count": null,
      "outputs": []
    },
    {
      "cell_type": "markdown",
      "id": "54c85223",
      "metadata": {
        "id": "54c85223"
      },
      "source": [
        "Test Data"
      ]
    },
    {
      "cell_type": "code",
      "execution_count": 24,
      "id": "45df2c40",
      "metadata": {
        "scrolled": false,
        "id": "45df2c40"
      },
      "outputs": [],
      "source": [
        "test_data= test_data.drop(['TITLE','BULLET_POINTS','DESCRIPTION','PRODUCT_ID'],axis=1)"
      ]
    },
    {
      "cell_type": "code",
      "source": [
        "test_data"
      ],
      "metadata": {
        "colab": {
          "base_uri": "https://localhost:8080/",
          "height": 423
        },
        "id": "plnIUlGtTdWM",
        "outputId": "8fef966a-6626-4090-d79a-aa24bf02e847"
      },
      "id": "plnIUlGtTdWM",
      "execution_count": 25,
      "outputs": [
        {
          "output_type": "execute_result",
          "data": {
            "text/plain": [
              "        PRODUCT_TYPE_ID\n",
              "0                  6142\n",
              "1                  1622\n",
              "2                  7540\n",
              "3                 12442\n",
              "4                  6318\n",
              "...                 ...\n",
              "734731             7073\n",
              "734732                1\n",
              "734733            10645\n",
              "734734            12680\n",
              "734735                0\n",
              "\n",
              "[734736 rows x 1 columns]"
            ],
            "text/html": [
              "\n",
              "  <div id=\"df-60fe5fae-71ea-40fc-9e69-2d1eea36def8\">\n",
              "    <div class=\"colab-df-container\">\n",
              "      <div>\n",
              "<style scoped>\n",
              "    .dataframe tbody tr th:only-of-type {\n",
              "        vertical-align: middle;\n",
              "    }\n",
              "\n",
              "    .dataframe tbody tr th {\n",
              "        vertical-align: top;\n",
              "    }\n",
              "\n",
              "    .dataframe thead th {\n",
              "        text-align: right;\n",
              "    }\n",
              "</style>\n",
              "<table border=\"1\" class=\"dataframe\">\n",
              "  <thead>\n",
              "    <tr style=\"text-align: right;\">\n",
              "      <th></th>\n",
              "      <th>PRODUCT_TYPE_ID</th>\n",
              "    </tr>\n",
              "  </thead>\n",
              "  <tbody>\n",
              "    <tr>\n",
              "      <th>0</th>\n",
              "      <td>6142</td>\n",
              "    </tr>\n",
              "    <tr>\n",
              "      <th>1</th>\n",
              "      <td>1622</td>\n",
              "    </tr>\n",
              "    <tr>\n",
              "      <th>2</th>\n",
              "      <td>7540</td>\n",
              "    </tr>\n",
              "    <tr>\n",
              "      <th>3</th>\n",
              "      <td>12442</td>\n",
              "    </tr>\n",
              "    <tr>\n",
              "      <th>4</th>\n",
              "      <td>6318</td>\n",
              "    </tr>\n",
              "    <tr>\n",
              "      <th>...</th>\n",
              "      <td>...</td>\n",
              "    </tr>\n",
              "    <tr>\n",
              "      <th>734731</th>\n",
              "      <td>7073</td>\n",
              "    </tr>\n",
              "    <tr>\n",
              "      <th>734732</th>\n",
              "      <td>1</td>\n",
              "    </tr>\n",
              "    <tr>\n",
              "      <th>734733</th>\n",
              "      <td>10645</td>\n",
              "    </tr>\n",
              "    <tr>\n",
              "      <th>734734</th>\n",
              "      <td>12680</td>\n",
              "    </tr>\n",
              "    <tr>\n",
              "      <th>734735</th>\n",
              "      <td>0</td>\n",
              "    </tr>\n",
              "  </tbody>\n",
              "</table>\n",
              "<p>734736 rows × 1 columns</p>\n",
              "</div>\n",
              "      <button class=\"colab-df-convert\" onclick=\"convertToInteractive('df-60fe5fae-71ea-40fc-9e69-2d1eea36def8')\"\n",
              "              title=\"Convert this dataframe to an interactive table.\"\n",
              "              style=\"display:none;\">\n",
              "        \n",
              "  <svg xmlns=\"http://www.w3.org/2000/svg\" height=\"24px\"viewBox=\"0 0 24 24\"\n",
              "       width=\"24px\">\n",
              "    <path d=\"M0 0h24v24H0V0z\" fill=\"none\"/>\n",
              "    <path d=\"M18.56 5.44l.94 2.06.94-2.06 2.06-.94-2.06-.94-.94-2.06-.94 2.06-2.06.94zm-11 1L8.5 8.5l.94-2.06 2.06-.94-2.06-.94L8.5 2.5l-.94 2.06-2.06.94zm10 10l.94 2.06.94-2.06 2.06-.94-2.06-.94-.94-2.06-.94 2.06-2.06.94z\"/><path d=\"M17.41 7.96l-1.37-1.37c-.4-.4-.92-.59-1.43-.59-.52 0-1.04.2-1.43.59L10.3 9.45l-7.72 7.72c-.78.78-.78 2.05 0 2.83L4 21.41c.39.39.9.59 1.41.59.51 0 1.02-.2 1.41-.59l7.78-7.78 2.81-2.81c.8-.78.8-2.07 0-2.86zM5.41 20L4 18.59l7.72-7.72 1.47 1.35L5.41 20z\"/>\n",
              "  </svg>\n",
              "      </button>\n",
              "      \n",
              "  <style>\n",
              "    .colab-df-container {\n",
              "      display:flex;\n",
              "      flex-wrap:wrap;\n",
              "      gap: 12px;\n",
              "    }\n",
              "\n",
              "    .colab-df-convert {\n",
              "      background-color: #E8F0FE;\n",
              "      border: none;\n",
              "      border-radius: 50%;\n",
              "      cursor: pointer;\n",
              "      display: none;\n",
              "      fill: #1967D2;\n",
              "      height: 32px;\n",
              "      padding: 0 0 0 0;\n",
              "      width: 32px;\n",
              "    }\n",
              "\n",
              "    .colab-df-convert:hover {\n",
              "      background-color: #E2EBFA;\n",
              "      box-shadow: 0px 1px 2px rgba(60, 64, 67, 0.3), 0px 1px 3px 1px rgba(60, 64, 67, 0.15);\n",
              "      fill: #174EA6;\n",
              "    }\n",
              "\n",
              "    [theme=dark] .colab-df-convert {\n",
              "      background-color: #3B4455;\n",
              "      fill: #D2E3FC;\n",
              "    }\n",
              "\n",
              "    [theme=dark] .colab-df-convert:hover {\n",
              "      background-color: #434B5C;\n",
              "      box-shadow: 0px 1px 3px 1px rgba(0, 0, 0, 0.15);\n",
              "      filter: drop-shadow(0px 1px 2px rgba(0, 0, 0, 0.3));\n",
              "      fill: #FFFFFF;\n",
              "    }\n",
              "  </style>\n",
              "\n",
              "      <script>\n",
              "        const buttonEl =\n",
              "          document.querySelector('#df-60fe5fae-71ea-40fc-9e69-2d1eea36def8 button.colab-df-convert');\n",
              "        buttonEl.style.display =\n",
              "          google.colab.kernel.accessAllowed ? 'block' : 'none';\n",
              "\n",
              "        async function convertToInteractive(key) {\n",
              "          const element = document.querySelector('#df-60fe5fae-71ea-40fc-9e69-2d1eea36def8');\n",
              "          const dataTable =\n",
              "            await google.colab.kernel.invokeFunction('convertToInteractive',\n",
              "                                                     [key], {});\n",
              "          if (!dataTable) return;\n",
              "\n",
              "          const docLinkHtml = 'Like what you see? Visit the ' +\n",
              "            '<a target=\"_blank\" href=https://colab.research.google.com/notebooks/data_table.ipynb>data table notebook</a>'\n",
              "            + ' to learn more about interactive tables.';\n",
              "          element.innerHTML = '';\n",
              "          dataTable['output_type'] = 'display_data';\n",
              "          await google.colab.output.renderOutput(dataTable, element);\n",
              "          const docLink = document.createElement('div');\n",
              "          docLink.innerHTML = docLinkHtml;\n",
              "          element.appendChild(docLink);\n",
              "        }\n",
              "      </script>\n",
              "    </div>\n",
              "  </div>\n",
              "  "
            ]
          },
          "metadata": {},
          "execution_count": 25
        }
      ]
    },
    {
      "cell_type": "code",
      "source": [
        "X_test=test_data['PRODUCT_TYPE_ID']"
      ],
      "metadata": {
        "id": "OidAATgCTiw7"
      },
      "id": "OidAATgCTiw7",
      "execution_count": 27,
      "outputs": []
    },
    {
      "cell_type": "code",
      "source": [
        "X_test=X_test.values.reshape(-1,1)"
      ],
      "metadata": {
        "id": "xYSWcN2CT5Rd"
      },
      "id": "xYSWcN2CT5Rd",
      "execution_count": 31,
      "outputs": []
    },
    {
      "cell_type": "code",
      "execution_count": 32,
      "id": "3f409eb9",
      "metadata": {
        "colab": {
          "base_uri": "https://localhost:8080/"
        },
        "id": "3f409eb9",
        "outputId": "a9e716d1-08ac-45d9-e04b-a134a497952b"
      },
      "outputs": [
        {
          "output_type": "execute_result",
          "data": {
            "text/plain": [
              "array([479.26072943, 496.16062066, 474.03372768, ..., 462.42439974,\n",
              "       454.81570977, 502.22513915])"
            ]
          },
          "metadata": {},
          "execution_count": 32
        }
      ],
      "source": [
        "y_pred = reg.predict(X_test)\n",
        "y_pred"
      ]
    },
    {
      "cell_type": "code",
      "source": [
        "sub= pd.read_csv('/content/drive/MyDrive/data/dataset/sample_submission.csv')"
      ],
      "metadata": {
        "id": "5B5WvLgeUNaC"
      },
      "id": "5B5WvLgeUNaC",
      "execution_count": 34,
      "outputs": []
    },
    {
      "cell_type": "code",
      "source": [
        "sub['PRODUCT_LENGTH']=y_pred"
      ],
      "metadata": {
        "id": "4qKIJVaHUqVc"
      },
      "id": "4qKIJVaHUqVc",
      "execution_count": 35,
      "outputs": []
    },
    {
      "cell_type": "code",
      "source": [
        "sub.to_csv(\"Submission_7.csv\",index=False)"
      ],
      "metadata": {
        "id": "hqrkvhMWU63b"
      },
      "id": "hqrkvhMWU63b",
      "execution_count": 36,
      "outputs": []
    },
    {
      "cell_type": "code",
      "execution_count": null,
      "id": "c5d501aa",
      "metadata": {
        "id": "c5d501aa"
      },
      "outputs": [],
      "source": [
        "test_data['product_length'] = y_pred"
      ]
    },
    {
      "cell_type": "code",
      "execution_count": null,
      "id": "cf97c657",
      "metadata": {
        "scrolled": false,
        "id": "cf97c657"
      },
      "outputs": [],
      "source": [
        "test_target_variable = test_data['target_pred']"
      ]
    },
    {
      "cell_type": "code",
      "execution_count": null,
      "id": "40aefc3f",
      "metadata": {
        "scrolled": false,
        "id": "40aefc3f"
      },
      "outputs": [],
      "source": []
    },
    {
      "cell_type": "code",
      "execution_count": null,
      "id": "7909153c",
      "metadata": {
        "id": "7909153c"
      },
      "outputs": [],
      "source": []
    },
    {
      "cell_type": "code",
      "execution_count": null,
      "id": "ad85e796",
      "metadata": {
        "id": "ad85e796",
        "outputId": "63b5c063-3dee-4f47-a2e7-9cccfc35b11e"
      },
      "outputs": [
        {
          "data": {
            "text/html": [
              "<div>\n",
              "<style scoped>\n",
              "    .dataframe tbody tr th:only-of-type {\n",
              "        vertical-align: middle;\n",
              "    }\n",
              "\n",
              "    .dataframe tbody tr th {\n",
              "        vertical-align: top;\n",
              "    }\n",
              "\n",
              "    .dataframe thead th {\n",
              "        text-align: right;\n",
              "    }\n",
              "</style>\n",
              "<table border=\"1\" class=\"dataframe\">\n",
              "  <thead>\n",
              "    <tr style=\"text-align: right;\">\n",
              "      <th></th>\n",
              "      <th>PRODUCT_ID</th>\n",
              "      <th>TITLE</th>\n",
              "      <th>BULLET_POINTS</th>\n",
              "      <th>DESCRIPTION</th>\n",
              "      <th>PRODUCT_TYPE_ID</th>\n",
              "      <th>predicted</th>\n",
              "      <th>product_length</th>\n",
              "    </tr>\n",
              "  </thead>\n",
              "  <tbody>\n",
              "    <tr>\n",
              "      <th>0</th>\n",
              "      <td>604373</td>\n",
              "      <td>Manuel d'Héliogravure Et de Photogravure En Re...</td>\n",
              "      <td>NaN</td>\n",
              "      <td>NaN</td>\n",
              "      <td>6142</td>\n",
              "      <td>981.880019</td>\n",
              "      <td>1014.458183</td>\n",
              "    </tr>\n",
              "    <tr>\n",
              "      <th>1</th>\n",
              "      <td>1729783</td>\n",
              "      <td>DCGARING Microfiber Throw Blanket Warm Fuzzy P...</td>\n",
              "      <td>[QUALITY GUARANTEED: Luxury cozy plush polyest...</td>\n",
              "      <td>&lt;b&gt;DCGARING Throw Blanket&lt;/b&gt;&lt;br&gt;&lt;br&gt; &lt;b&gt;Size ...</td>\n",
              "      <td>1622</td>\n",
              "      <td>981.880019</td>\n",
              "      <td>945.912401</td>\n",
              "    </tr>\n",
              "    <tr>\n",
              "      <th>2</th>\n",
              "      <td>1871949</td>\n",
              "      <td>I-Match Auto Parts Front License Plate Bracket...</td>\n",
              "      <td>[Front License Plate Bracket Made Of Plastic,D...</td>\n",
              "      <td>Replacement for The Following Vehicles:2020 LE...</td>\n",
              "      <td>7540</td>\n",
              "      <td>981.880019</td>\n",
              "      <td>1035.658847</td>\n",
              "    </tr>\n",
              "    <tr>\n",
              "      <th>3</th>\n",
              "      <td>1107571</td>\n",
              "      <td>PinMart Gold Plated Excellence in Service 1 Ye...</td>\n",
              "      <td>[Available as a single item or bulk packed. Se...</td>\n",
              "      <td>Our Excellence in Service Lapel Pins feature a...</td>\n",
              "      <td>12442</td>\n",
              "      <td>981.880019</td>\n",
              "      <td>1109.997657</td>\n",
              "    </tr>\n",
              "    <tr>\n",
              "      <th>4</th>\n",
              "      <td>624253</td>\n",
              "      <td>Visual Mathematics, Illustrated by the TI-92 a...</td>\n",
              "      <td>NaN</td>\n",
              "      <td>NaN</td>\n",
              "      <td>6318</td>\n",
              "      <td>981.880019</td>\n",
              "      <td>1017.127222</td>\n",
              "    </tr>\n",
              "    <tr>\n",
              "      <th>...</th>\n",
              "      <td>...</td>\n",
              "      <td>...</td>\n",
              "      <td>...</td>\n",
              "      <td>...</td>\n",
              "      <td>...</td>\n",
              "      <td>...</td>\n",
              "      <td>...</td>\n",
              "    </tr>\n",
              "    <tr>\n",
              "      <th>734731</th>\n",
              "      <td>921419</td>\n",
              "      <td>Casual Canine Basic Hoodie for Dogs, 16\" Mediu...</td>\n",
              "      <td>[Brightly colored pet sweatshirts with authent...</td>\n",
              "      <td>ZA6015 16 43 Size-See Chart Below: Medium: 16\"...</td>\n",
              "      <td>7073</td>\n",
              "      <td>981.880019</td>\n",
              "      <td>1028.576794</td>\n",
              "    </tr>\n",
              "    <tr>\n",
              "      <th>734732</th>\n",
              "      <td>2456362</td>\n",
              "      <td>Dive Log Book: Scuba Diving Logbook for Beginn...</td>\n",
              "      <td>NaN</td>\n",
              "      <td>NaN</td>\n",
              "      <td>1</td>\n",
              "      <td>981.880019</td>\n",
              "      <td>921.329942</td>\n",
              "    </tr>\n",
              "    <tr>\n",
              "      <th>734733</th>\n",
              "      <td>841529</td>\n",
              "      <td>Axor 39135001 Citterio Widespread Faucet with ...</td>\n",
              "      <td>[8-Inch centers,1/2-Inch IPS inlets,9-Inch spo...</td>\n",
              "      <td>39135001 Features: -ADA compliant. -Includes p...</td>\n",
              "      <td>10645</td>\n",
              "      <td>981.880019</td>\n",
              "      <td>1082.746160</td>\n",
              "    </tr>\n",
              "    <tr>\n",
              "      <th>734734</th>\n",
              "      <td>1190194</td>\n",
              "      <td>Caroline's Treasures BB1801DS812 Halloween Bas...</td>\n",
              "      <td>[Indoor or outdoor aluminum artwork prints,8 i...</td>\n",
              "      <td>Features. Great for inside or outside these Al...</td>\n",
              "      <td>12680</td>\n",
              "      <td>981.880019</td>\n",
              "      <td>1113.606927</td>\n",
              "    </tr>\n",
              "    <tr>\n",
              "      <th>734735</th>\n",
              "      <td>1040810</td>\n",
              "      <td>Amsahr 18C1623 Lexmark X3530 Remanufactured Re...</td>\n",
              "      <td>[Engineered and Manufactured Under European St...</td>\n",
              "      <td>Our Remanufactured Replacement Lexmark Ink Car...</td>\n",
              "      <td>0</td>\n",
              "      <td>981.880019</td>\n",
              "      <td>921.314777</td>\n",
              "    </tr>\n",
              "  </tbody>\n",
              "</table>\n",
              "<p>734736 rows × 7 columns</p>\n",
              "</div>"
            ],
            "text/plain": [
              "        PRODUCT_ID                                              TITLE  \\\n",
              "0           604373  Manuel d'Héliogravure Et de Photogravure En Re...   \n",
              "1          1729783  DCGARING Microfiber Throw Blanket Warm Fuzzy P...   \n",
              "2          1871949  I-Match Auto Parts Front License Plate Bracket...   \n",
              "3          1107571  PinMart Gold Plated Excellence in Service 1 Ye...   \n",
              "4           624253  Visual Mathematics, Illustrated by the TI-92 a...   \n",
              "...            ...                                                ...   \n",
              "734731      921419  Casual Canine Basic Hoodie for Dogs, 16\" Mediu...   \n",
              "734732     2456362  Dive Log Book: Scuba Diving Logbook for Beginn...   \n",
              "734733      841529  Axor 39135001 Citterio Widespread Faucet with ...   \n",
              "734734     1190194  Caroline's Treasures BB1801DS812 Halloween Bas...   \n",
              "734735     1040810  Amsahr 18C1623 Lexmark X3530 Remanufactured Re...   \n",
              "\n",
              "                                            BULLET_POINTS  \\\n",
              "0                                                     NaN   \n",
              "1       [QUALITY GUARANTEED: Luxury cozy plush polyest...   \n",
              "2       [Front License Plate Bracket Made Of Plastic,D...   \n",
              "3       [Available as a single item or bulk packed. Se...   \n",
              "4                                                     NaN   \n",
              "...                                                   ...   \n",
              "734731  [Brightly colored pet sweatshirts with authent...   \n",
              "734732                                                NaN   \n",
              "734733  [8-Inch centers,1/2-Inch IPS inlets,9-Inch spo...   \n",
              "734734  [Indoor or outdoor aluminum artwork prints,8 i...   \n",
              "734735  [Engineered and Manufactured Under European St...   \n",
              "\n",
              "                                              DESCRIPTION  PRODUCT_TYPE_ID  \\\n",
              "0                                                     NaN             6142   \n",
              "1       <b>DCGARING Throw Blanket</b><br><br> <b>Size ...             1622   \n",
              "2       Replacement for The Following Vehicles:2020 LE...             7540   \n",
              "3       Our Excellence in Service Lapel Pins feature a...            12442   \n",
              "4                                                     NaN             6318   \n",
              "...                                                   ...              ...   \n",
              "734731  ZA6015 16 43 Size-See Chart Below: Medium: 16\"...             7073   \n",
              "734732                                                NaN                1   \n",
              "734733  39135001 Features: -ADA compliant. -Includes p...            10645   \n",
              "734734  Features. Great for inside or outside these Al...            12680   \n",
              "734735  Our Remanufactured Replacement Lexmark Ink Car...                0   \n",
              "\n",
              "         predicted  product_length  \n",
              "0       981.880019     1014.458183  \n",
              "1       981.880019      945.912401  \n",
              "2       981.880019     1035.658847  \n",
              "3       981.880019     1109.997657  \n",
              "4       981.880019     1017.127222  \n",
              "...            ...             ...  \n",
              "734731  981.880019     1028.576794  \n",
              "734732  981.880019      921.329942  \n",
              "734733  981.880019     1082.746160  \n",
              "734734  981.880019     1113.606927  \n",
              "734735  981.880019      921.314777  \n",
              "\n",
              "[734736 rows x 7 columns]"
            ]
          },
          "execution_count": 81,
          "metadata": {},
          "output_type": "execute_result"
        }
      ],
      "source": [
        "test_data['predicted'] = mean_target\n",
        "test_data=test_data.drop(['target_pred'],axis=1)\n",
        "test_data"
      ]
    },
    {
      "cell_type": "code",
      "execution_count": null,
      "id": "c3b16095",
      "metadata": {
        "scrolled": false,
        "id": "c3b16095",
        "outputId": "e95cbaf1-9625-4dbd-898a-d0170d7bfec5"
      },
      "outputs": [
        {
          "data": {
            "text/html": [
              "<div>\n",
              "<style scoped>\n",
              "    .dataframe tbody tr th:only-of-type {\n",
              "        vertical-align: middle;\n",
              "    }\n",
              "\n",
              "    .dataframe tbody tr th {\n",
              "        vertical-align: top;\n",
              "    }\n",
              "\n",
              "    .dataframe thead th {\n",
              "        text-align: right;\n",
              "    }\n",
              "</style>\n",
              "<table border=\"1\" class=\"dataframe\">\n",
              "  <thead>\n",
              "    <tr style=\"text-align: right;\">\n",
              "      <th></th>\n",
              "      <th>PRODUCT_TYPE_ID</th>\n",
              "      <th>PRODUCT_LENGTH</th>\n",
              "      <th>zscore</th>\n",
              "    </tr>\n",
              "  </thead>\n",
              "  <tbody>\n",
              "    <tr>\n",
              "      <th>0</th>\n",
              "      <td>1650</td>\n",
              "      <td>2125.980000</td>\n",
              "      <td>-0.001440</td>\n",
              "    </tr>\n",
              "    <tr>\n",
              "      <th>1</th>\n",
              "      <td>2755</td>\n",
              "      <td>393.700000</td>\n",
              "      <td>-0.002721</td>\n",
              "    </tr>\n",
              "    <tr>\n",
              "      <th>2</th>\n",
              "      <td>7537</td>\n",
              "      <td>748.031495</td>\n",
              "      <td>-0.002459</td>\n",
              "    </tr>\n",
              "    <tr>\n",
              "      <th>3</th>\n",
              "      <td>2996</td>\n",
              "      <td>787.401574</td>\n",
              "      <td>-0.002430</td>\n",
              "    </tr>\n",
              "    <tr>\n",
              "      <th>4</th>\n",
              "      <td>6112</td>\n",
              "      <td>598.424000</td>\n",
              "      <td>-0.002570</td>\n",
              "    </tr>\n",
              "    <tr>\n",
              "      <th>...</th>\n",
              "      <td>...</td>\n",
              "      <td>...</td>\n",
              "      <td>...</td>\n",
              "    </tr>\n",
              "    <tr>\n",
              "      <th>2249693</th>\n",
              "      <td>3009</td>\n",
              "      <td>1181.100000</td>\n",
              "      <td>-0.002139</td>\n",
              "    </tr>\n",
              "    <tr>\n",
              "      <th>2249694</th>\n",
              "      <td>3413</td>\n",
              "      <td>125.984252</td>\n",
              "      <td>-0.002919</td>\n",
              "    </tr>\n",
              "    <tr>\n",
              "      <th>2249695</th>\n",
              "      <td>1574</td>\n",
              "      <td>1200.000000</td>\n",
              "      <td>-0.002125</td>\n",
              "    </tr>\n",
              "    <tr>\n",
              "      <th>2249696</th>\n",
              "      <td>592</td>\n",
              "      <td>2900.000000</td>\n",
              "      <td>-0.000867</td>\n",
              "    </tr>\n",
              "    <tr>\n",
              "      <th>2249697</th>\n",
              "      <td>7367</td>\n",
              "      <td>2000.000000</td>\n",
              "      <td>-0.001533</td>\n",
              "    </tr>\n",
              "  </tbody>\n",
              "</table>\n",
              "<p>2249439 rows × 3 columns</p>\n",
              "</div>"
            ],
            "text/plain": [
              "         PRODUCT_TYPE_ID  PRODUCT_LENGTH    zscore\n",
              "0                   1650     2125.980000 -0.001440\n",
              "1                   2755      393.700000 -0.002721\n",
              "2                   7537      748.031495 -0.002459\n",
              "3                   2996      787.401574 -0.002430\n",
              "4                   6112      598.424000 -0.002570\n",
              "...                  ...             ...       ...\n",
              "2249693             3009     1181.100000 -0.002139\n",
              "2249694             3413      125.984252 -0.002919\n",
              "2249695             1574     1200.000000 -0.002125\n",
              "2249696              592     2900.000000 -0.000867\n",
              "2249697             7367     2000.000000 -0.001533\n",
              "\n",
              "[2249439 rows x 3 columns]"
            ]
          },
          "execution_count": 57,
          "metadata": {},
          "output_type": "execute_result"
        }
      ],
      "source": [
        "final=new[new['zscore']<3]\n",
        "final"
      ]
    },
    {
      "cell_type": "code",
      "execution_count": null,
      "id": "e9099596",
      "metadata": {
        "id": "e9099596",
        "outputId": "7821bf26-9137-4593-cf38-a88af0007a21"
      },
      "outputs": [
        {
          "data": {
            "text/html": [
              "<div>\n",
              "<style scoped>\n",
              "    .dataframe tbody tr th:only-of-type {\n",
              "        vertical-align: middle;\n",
              "    }\n",
              "\n",
              "    .dataframe tbody tr th {\n",
              "        vertical-align: top;\n",
              "    }\n",
              "\n",
              "    .dataframe thead th {\n",
              "        text-align: right;\n",
              "    }\n",
              "</style>\n",
              "<table border=\"1\" class=\"dataframe\">\n",
              "  <thead>\n",
              "    <tr style=\"text-align: right;\">\n",
              "      <th></th>\n",
              "      <th>PRODUCT_TYPE_ID</th>\n",
              "      <th>PRODUCT_LENGTH</th>\n",
              "      <th>zscore</th>\n",
              "    </tr>\n",
              "  </thead>\n",
              "  <tbody>\n",
              "  </tbody>\n",
              "</table>\n",
              "</div>"
            ],
            "text/plain": [
              "Empty DataFrame\n",
              "Columns: [PRODUCT_TYPE_ID, PRODUCT_LENGTH, zscore]\n",
              "Index: []"
            ]
          },
          "execution_count": 89,
          "metadata": {},
          "output_type": "execute_result"
        }
      ],
      "source": [
        "final[final['zscore']>3]"
      ]
    },
    {
      "cell_type": "code",
      "execution_count": null,
      "id": "cf291a9d",
      "metadata": {
        "scrolled": true,
        "id": "cf291a9d",
        "outputId": "8fcd3db8-311e-4e6d-83a6-50cf7bfb1fc6"
      },
      "outputs": [
        {
          "data": {
            "text/html": [
              "<div>\n",
              "<style scoped>\n",
              "    .dataframe tbody tr th:only-of-type {\n",
              "        vertical-align: middle;\n",
              "    }\n",
              "\n",
              "    .dataframe tbody tr th {\n",
              "        vertical-align: top;\n",
              "    }\n",
              "\n",
              "    .dataframe thead th {\n",
              "        text-align: right;\n",
              "    }\n",
              "</style>\n",
              "<table border=\"1\" class=\"dataframe\">\n",
              "  <thead>\n",
              "    <tr style=\"text-align: right;\">\n",
              "      <th></th>\n",
              "      <th>PRODUCT_TYPE_ID</th>\n",
              "      <th>PRODUCT_LENGTH</th>\n",
              "      <th>zscore</th>\n",
              "    </tr>\n",
              "  </thead>\n",
              "  <tbody>\n",
              "  </tbody>\n",
              "</table>\n",
              "</div>"
            ],
            "text/plain": [
              "Empty DataFrame\n",
              "Columns: [PRODUCT_TYPE_ID, PRODUCT_LENGTH, zscore]\n",
              "Index: []"
            ]
          },
          "execution_count": 90,
          "metadata": {},
          "output_type": "execute_result"
        }
      ],
      "source": [
        "new[new['zscore']<-3]"
      ]
    },
    {
      "cell_type": "code",
      "execution_count": null,
      "id": "0c7b005e",
      "metadata": {
        "id": "0c7b005e",
        "outputId": "30d751a3-6c7d-4478-d7f7-8b381fb996fb"
      },
      "outputs": [
        {
          "data": {
            "text/html": [
              "<div>\n",
              "<style scoped>\n",
              "    .dataframe tbody tr th:only-of-type {\n",
              "        vertical-align: middle;\n",
              "    }\n",
              "\n",
              "    .dataframe tbody tr th {\n",
              "        vertical-align: top;\n",
              "    }\n",
              "\n",
              "    .dataframe thead th {\n",
              "        text-align: right;\n",
              "    }\n",
              "</style>\n",
              "<table border=\"1\" class=\"dataframe\">\n",
              "  <thead>\n",
              "    <tr style=\"text-align: right;\">\n",
              "      <th></th>\n",
              "      <th>PRODUCT_TYPE_ID</th>\n",
              "      <th>PRODUCT_LENGTH</th>\n",
              "      <th>zscore</th>\n",
              "    </tr>\n",
              "  </thead>\n",
              "  <tbody>\n",
              "    <tr>\n",
              "      <th>13229</th>\n",
              "      <td>3069</td>\n",
              "      <td>6629200.0</td>\n",
              "      <td>4.901386</td>\n",
              "    </tr>\n",
              "    <tr>\n",
              "      <th>27561</th>\n",
              "      <td>3069</td>\n",
              "      <td>8466600.0</td>\n",
              "      <td>6.260726</td>\n",
              "    </tr>\n",
              "    <tr>\n",
              "      <th>42663</th>\n",
              "      <td>3072</td>\n",
              "      <td>5519100.0</td>\n",
              "      <td>4.080114</td>\n",
              "    </tr>\n",
              "    <tr>\n",
              "      <th>50234</th>\n",
              "      <td>4625</td>\n",
              "      <td>4935900.0</td>\n",
              "      <td>3.648653</td>\n",
              "    </tr>\n",
              "    <tr>\n",
              "      <th>54146</th>\n",
              "      <td>3069</td>\n",
              "      <td>8428900.0</td>\n",
              "      <td>6.232835</td>\n",
              "    </tr>\n",
              "    <tr>\n",
              "      <th>...</th>\n",
              "      <td>...</td>\n",
              "      <td>...</td>\n",
              "      <td>...</td>\n",
              "    </tr>\n",
              "    <tr>\n",
              "      <th>2231433</th>\n",
              "      <td>3073</td>\n",
              "      <td>8881200.0</td>\n",
              "      <td>6.567455</td>\n",
              "    </tr>\n",
              "    <tr>\n",
              "      <th>2235221</th>\n",
              "      <td>3075</td>\n",
              "      <td>7500900.0</td>\n",
              "      <td>5.546284</td>\n",
              "    </tr>\n",
              "    <tr>\n",
              "      <th>2238917</th>\n",
              "      <td>3069</td>\n",
              "      <td>9449700.0</td>\n",
              "      <td>6.988041</td>\n",
              "    </tr>\n",
              "    <tr>\n",
              "      <th>2239415</th>\n",
              "      <td>3073</td>\n",
              "      <td>8874200.0</td>\n",
              "      <td>6.562276</td>\n",
              "    </tr>\n",
              "    <tr>\n",
              "      <th>2245709</th>\n",
              "      <td>3073</td>\n",
              "      <td>5949100.0</td>\n",
              "      <td>4.398236</td>\n",
              "    </tr>\n",
              "  </tbody>\n",
              "</table>\n",
              "<p>259 rows × 3 columns</p>\n",
              "</div>"
            ],
            "text/plain": [
              "         PRODUCT_TYPE_ID  PRODUCT_LENGTH    zscore\n",
              "13229               3069       6629200.0  4.901386\n",
              "27561               3069       8466600.0  6.260726\n",
              "42663               3072       5519100.0  4.080114\n",
              "50234               4625       4935900.0  3.648653\n",
              "54146               3069       8428900.0  6.232835\n",
              "...                  ...             ...       ...\n",
              "2231433             3073       8881200.0  6.567455\n",
              "2235221             3075       7500900.0  5.546284\n",
              "2238917             3069       9449700.0  6.988041\n",
              "2239415             3073       8874200.0  6.562276\n",
              "2245709             3073       5949100.0  4.398236\n",
              "\n",
              "[259 rows x 3 columns]"
            ]
          },
          "execution_count": 91,
          "metadata": {},
          "output_type": "execute_result"
        }
      ],
      "source": [
        "new[(new.zscore<-3) | (new.zscore>3)]"
      ]
    },
    {
      "cell_type": "code",
      "execution_count": null,
      "id": "e1e8adef",
      "metadata": {
        "id": "e1e8adef",
        "outputId": "2f39b409-c8d7-493c-ba28-d5b34f16cbc9"
      },
      "outputs": [
        {
          "data": {
            "text/plain": [
              "<AxesSubplot: xlabel='PRODUCT_LENGTH'>"
            ]
          },
          "execution_count": 49,
          "metadata": {},
          "output_type": "execute_result"
        },
        {
          "data": {
            "image/png": "[encoded data removed]",
            "text/plain": [
              "<Figure size 640x480 with 1 Axes>"
            ]
          },
          "metadata": {},
          "output_type": "display_data"
        }
      ],
      "source": [
        "sns.boxplot(x=new[\"PRODUCT_LENGTH\"])"
      ]
    },
    {
      "cell_type": "code",
      "execution_count": null,
      "id": "f28ad994",
      "metadata": {
        "id": "f28ad994",
        "outputId": "39c0bf06-e202-4215-d318-d7552c17c78d"
      },
      "outputs": [
        {
          "name": "stdout",
          "output_type": "stream",
          "text": [
            "Collecting openpyxl\n",
            "  Downloading openpyxl-3.1.2-py2.py3-none-any.whl (249 kB)\n",
            "                                              0.0/250.0 kB ? eta -:--:--\n",
            "     ---                                   20.5/250.0 kB 330.3 kB/s eta 0:00:01\n",
            "     ---------                             61.4/250.0 kB 544.7 kB/s eta 0:00:01\n",
            "     -------------                         92.2/250.0 kB 581.0 kB/s eta 0:00:01\n",
            "     --------------------                 143.4/250.0 kB 708.1 kB/s eta 0:00:01\n",
            "     -------------------------            174.1/250.0 kB 700.2 kB/s eta 0:00:01\n",
            "     --------------------------------     225.3/250.0 kB 724.0 kB/s eta 0:00:01\n",
            "     ------------------------------------ 250.0/250.0 kB 696.9 kB/s eta 0:00:00\n",
            "Collecting et-xmlfile (from openpyxl)\n",
            "  Downloading et_xmlfile-1.1.0-py3-none-any.whl (4.7 kB)\n",
            "Installing collected packages: et-xmlfile, openpyxl\n",
            "Successfully installed et-xmlfile-1.1.0 openpyxl-3.1.2\n"
          ]
        }
      ],
      "source": [
        "!pip install openpyxl"
      ]
    },
    {
      "cell_type": "code",
      "execution_count": null,
      "id": "652e873b",
      "metadata": {
        "id": "652e873b",
        "outputId": "08851900-9f95-42a7-b38d-4de703f42df5"
      },
      "outputs": [
        {
          "data": {
            "text/plain": [
              "<AxesSubplot: xlabel='PRODUCT_LENGTH', ylabel='PRODUCT_TYPE_ID'>"
            ]
          },
          "execution_count": 94,
          "metadata": {},
          "output_type": "execute_result"
        },
        {
          "data": {
            "image/png": "[encoded data removed]",
            "text/plain": [
              "<Figure size 640x480 with 1 Axes>"
            ]
          },
          "metadata": {},
          "output_type": "display_data"
        }
      ],
      "source": [
        "sns.set(style='whitegrid')\n",
        "fmri = sns.load_dataset(\"fmri\")\n",
        " \n",
        "sns.scatterplot(x=\"PRODUCT_LENGTH\", y=\"PRODUCT_TYPE_ID\", data=test[test[\"PRODUCT_TYPE_ID\"]==1650])\n",
        "\n",
        "\n"
      ]
    },
    {
      "cell_type": "code",
      "execution_count": null,
      "id": "d938195d",
      "metadata": {
        "id": "d938195d"
      },
      "outputs": [],
      "source": []
    },
    {
      "cell_type": "code",
      "execution_count": null,
      "id": "f96e540a",
      "metadata": {
        "scrolled": false,
        "id": "f96e540a",
        "outputId": "0fabc294-15f2-4c9c-f33b-04d2f011bd03"
      },
      "outputs": [
        {
          "name": "stdout",
          "output_type": "stream",
          "text": [
            "                                 OLS Regression Results                                \n",
            "=======================================================================================\n",
            "Dep. Variable:         PRODUCT_LENGTH   R-squared (uncentered):                   0.241\n",
            "Model:                            OLS   Adj. R-squared (uncentered):              0.241\n",
            "Method:                 Least Squares   F-statistic:                          7.062e+05\n",
            "Date:                Sun, 23 Apr 2023   Prob (F-statistic):                        0.00\n",
            "Time:                        18:13:05   Log-Likelihood:                     -1.9110e+07\n",
            "No. Observations:             2222729   AIC:                                  3.822e+07\n",
            "Df Residuals:                 2222728   BIC:                                  3.822e+07\n",
            "Df Model:                           1                                                  \n",
            "Covariance Type:            nonrobust                                                  \n",
            "===================================================================================\n",
            "                      coef    std err          t      P>|t|      [0.025      0.975]\n",
            "-----------------------------------------------------------------------------------\n",
            "PRODUCT_TYPE_ID     0.1313      0.000    840.375      0.000       0.131       0.132\n",
            "==============================================================================\n",
            "Omnibus:                  1459499.279   Durbin-Watson:                   1.755\n",
            "Prob(Omnibus):                  0.000   Jarque-Bera (JB):         21532306.093\n",
            "Skew:                           2.997   Prob(JB):                         0.00\n",
            "Kurtosis:                      17.020   Cond. No.                         1.00\n",
            "==============================================================================\n",
            "\n",
            "Notes:\n",
            "[1] R² is computed without centering (uncentered) since the model does not contain a constant.\n",
            "[2] Standard Errors assume that the covariance matrix of the errors is correctly specified.\n"
          ]
        }
      ],
      "source": [
        "import numpy as np\n",
        "import statsmodels.api as sm\n",
        "# Fit and summarize OLS model\n",
        "model = sm.OLS(y, X)\n",
        "res = model.fit()\n",
        "print(res.summary())"
      ]
    },
    {
      "cell_type": "code",
      "execution_count": null,
      "id": "15264270",
      "metadata": {
        "id": "15264270"
      },
      "outputs": [],
      "source": []
    },
    {
      "cell_type": "code",
      "execution_count": null,
      "id": "3de6c6af",
      "metadata": {
        "id": "3de6c6af",
        "outputId": "e80266ed-807d-4c79-fb26-0630b480a254"
      },
      "outputs": [
        {
          "name": "stderr",
          "output_type": "stream",
          "text": [
            "C:\\Users\\Charmi Tank\\AppData\\Local\\Programs\\Python\\Python310\\lib\\site-packages\\sklearn\\base.py:420: UserWarning: X does not have valid feature names, but LinearRegression was fitted with feature names\n",
            "  warnings.warn(\n"
          ]
        },
        {
          "data": {
            "text/plain": [
              "array([1247.05064619])"
            ]
          },
          "execution_count": 66,
          "metadata": {},
          "output_type": "execute_result"
        }
      ],
      "source": [
        "reg.predict([[1650]])"
      ]
    },
    {
      "cell_type": "code",
      "execution_count": null,
      "id": "12b12b42",
      "metadata": {
        "id": "12b12b42"
      },
      "outputs": [],
      "source": []
    },
    {
      "cell_type": "code",
      "execution_count": null,
      "id": "cd0d89d1",
      "metadata": {
        "id": "cd0d89d1",
        "outputId": "4752c95c-8926-4f9b-8925-99a84e9eb88b"
      },
      "outputs": [
        {
          "data": {
            "text/plain": [
              "-202.2772853675124"
            ]
          },
          "execution_count": 110,
          "metadata": {},
          "output_type": "execute_result"
        }
      ],
      "source": [
        "import sklearn.metrics as metrics\n",
        "score = 100*(1-metrics.mean_absolute_percentage_error(y,reg.predict(X)))\n",
        "score"
      ]
    },
    {
      "cell_type": "code",
      "execution_count": null,
      "id": "2c90c2aa",
      "metadata": {
        "id": "2c90c2aa",
        "outputId": "a4735b2f-455a-4eec-b5da-648a2475a81c"
      },
      "outputs": [
        {
          "name": "stdout",
          "output_type": "stream",
          "text": [
            "Requirement already satisfied: sentence-transformers in c:\\users\\charmi tank\\appdata\\local\\programs\\python\\python310\\lib\\site-packages (2.2.2)\n",
            "Requirement already satisfied: transformers<5.0.0,>=4.6.0 in c:\\users\\charmi tank\\appdata\\local\\programs\\python\\python310\\lib\\site-packages (from sentence-transformers) (4.28.1)\n",
            "Requirement already satisfied: tqdm in c:\\users\\charmi tank\\appdata\\local\\programs\\python\\python310\\lib\\site-packages (from sentence-transformers) (4.65.0)\n",
            "Requirement already satisfied: torch>=1.6.0 in c:\\users\\charmi tank\\appdata\\local\\programs\\python\\python310\\lib\\site-packages (from sentence-transformers) (2.0.0)\n",
            "Requirement already satisfied: torchvision in c:\\users\\charmi tank\\appdata\\local\\programs\\python\\python310\\lib\\site-packages (from sentence-transformers) (0.15.1)\n",
            "Requirement already satisfied: numpy in c:\\users\\charmi tank\\appdata\\local\\programs\\python\\python310\\lib\\site-packages (from sentence-transformers) (1.23.1)\n",
            "Requirement already satisfied: scikit-learn in c:\\users\\charmi tank\\appdata\\local\\programs\\python\\python310\\lib\\site-packages (from sentence-transformers) (1.2.1)\n",
            "Requirement already satisfied: scipy in c:\\users\\charmi tank\\appdata\\local\\programs\\python\\python310\\lib\\site-packages (from sentence-transformers) (1.10.0)\n",
            "Requirement already satisfied: nltk in c:\\users\\charmi tank\\appdata\\local\\programs\\python\\python310\\lib\\site-packages (from sentence-transformers) (3.8.1)\n",
            "Requirement already satisfied: sentencepiece in c:\\users\\charmi tank\\appdata\\local\\programs\\python\\python310\\lib\\site-packages (from sentence-transformers) (0.1.98)\n",
            "Requirement already satisfied: huggingface-hub>=0.4.0 in c:\\users\\charmi tank\\appdata\\local\\programs\\python\\python310\\lib\\site-packages (from sentence-transformers) (0.13.4)\n",
            "Requirement already satisfied: filelock in c:\\users\\charmi tank\\appdata\\local\\programs\\python\\python310\\lib\\site-packages (from huggingface-hub>=0.4.0->sentence-transformers) (3.9.0)\n",
            "Requirement already satisfied: requests in c:\\users\\charmi tank\\appdata\\local\\programs\\python\\python310\\lib\\site-packages (from huggingface-hub>=0.4.0->sentence-transformers) (2.28.2)\n",
            "Requirement already satisfied: pyyaml>=5.1 in c:\\users\\charmi tank\\appdata\\local\\programs\\python\\python310\\lib\\site-packages (from huggingface-hub>=0.4.0->sentence-transformers) (6.0)\n",
            "Requirement already satisfied: typing-extensions>=3.7.4.3 in c:\\users\\charmi tank\\appdata\\local\\programs\\python\\python310\\lib\\site-packages (from huggingface-hub>=0.4.0->sentence-transformers) (4.5.0)\n",
            "Requirement already satisfied: packaging>=20.9 in c:\\users\\charmi tank\\appdata\\roaming\\python\\python310\\site-packages (from huggingface-hub>=0.4.0->sentence-transformers) (23.0)\n",
            "Requirement already satisfied: sympy in c:\\users\\charmi tank\\appdata\\local\\programs\\python\\python310\\lib\\site-packages (from torch>=1.6.0->sentence-transformers) (1.11.1)\n",
            "Requirement already satisfied: networkx in c:\\users\\charmi tank\\appdata\\local\\programs\\python\\python310\\lib\\site-packages (from torch>=1.6.0->sentence-transformers) (3.0)\n",
            "Requirement already satisfied: jinja2 in c:\\users\\charmi tank\\appdata\\local\\programs\\python\\python310\\lib\\site-packages (from torch>=1.6.0->sentence-transformers) (3.1.2)\n",
            "Requirement already satisfied: colorama in c:\\users\\charmi tank\\appdata\\local\\programs\\python\\python310\\lib\\site-packages (from tqdm->sentence-transformers) (0.4.6)\n",
            "Requirement already satisfied: regex!=2019.12.17 in c:\\users\\charmi tank\\appdata\\local\\programs\\python\\python310\\lib\\site-packages (from transformers<5.0.0,>=4.6.0->sentence-transformers) (2023.3.23)\n",
            "Requirement already satisfied: tokenizers!=0.11.3,<0.14,>=0.11.1 in c:\\users\\charmi tank\\appdata\\local\\programs\\python\\python310\\lib\\site-packages (from transformers<5.0.0,>=4.6.0->sentence-transformers) (0.13.3)\n",
            "Requirement already satisfied: click in c:\\users\\charmi tank\\appdata\\local\\programs\\python\\python310\\lib\\site-packages (from nltk->sentence-transformers) (8.1.3)\n",
            "Requirement already satisfied: joblib in c:\\users\\charmi tank\\appdata\\local\\programs\\python\\python310\\lib\\site-packages (from nltk->sentence-transformers) (1.2.0)\n",
            "Requirement already satisfied: threadpoolctl>=2.0.0 in c:\\users\\charmi tank\\appdata\\local\\programs\\python\\python310\\lib\\site-packages (from scikit-learn->sentence-transformers) (3.1.0)\n",
            "Requirement already satisfied: pillow!=8.3.*,>=5.3.0 in c:\\users\\charmi tank\\appdata\\local\\programs\\python\\python310\\lib\\site-packages (from torchvision->sentence-transformers) (9.4.0)\n",
            "Requirement already satisfied: MarkupSafe>=2.0 in c:\\users\\charmi tank\\appdata\\local\\programs\\python\\python310\\lib\\site-packages (from jinja2->torch>=1.6.0->sentence-transformers) (2.1.2)\n",
            "Requirement already satisfied: charset-normalizer<4,>=2 in c:\\users\\charmi tank\\appdata\\local\\programs\\python\\python310\\lib\\site-packages (from requests->huggingface-hub>=0.4.0->sentence-transformers) (3.0.1)\n",
            "Requirement already satisfied: idna<4,>=2.5 in c:\\users\\charmi tank\\appdata\\local\\programs\\python\\python310\\lib\\site-packages (from requests->huggingface-hub>=0.4.0->sentence-transformers) (3.4)\n",
            "Requirement already satisfied: urllib3<1.27,>=1.21.1 in c:\\users\\charmi tank\\appdata\\local\\programs\\python\\python310\\lib\\site-packages (from requests->huggingface-hub>=0.4.0->sentence-transformers) (1.26.14)\n",
            "Requirement already satisfied: certifi>=2017.4.17 in c:\\users\\charmi tank\\appdata\\local\\programs\\python\\python310\\lib\\site-packages (from requests->huggingface-hub>=0.4.0->sentence-transformers) (2022.12.7)\n",
            "Requirement already satisfied: mpmath>=0.19 in c:\\users\\charmi tank\\appdata\\local\\programs\\python\\python310\\lib\\site-packages (from sympy->torch>=1.6.0->sentence-transformers) (1.3.0)\n"
          ]
        }
      ],
      "source": [
        "!pip install -U sentence-transformers\n",
        "\n"
      ]
    },
    {
      "cell_type": "code",
      "execution_count": null,
      "id": "4a5166e5",
      "metadata": {
        "id": "4a5166e5",
        "outputId": "1f021efd-3ff6-4914-cb58-97042f91a1b6"
      },
      "outputs": [
        {
          "name": "stdout",
          "output_type": "stream",
          "text": [
            "   col1  one_mean\n",
            "0     1       1.0\n",
            "1     2       1.0\n",
            "2     3       1.0\n",
            "3     1       1.0\n",
            "4     5       1.0\n",
            "5     5       1.0\n",
            "6     5       1.0\n",
            "7     5       1.0\n",
            "8     5       1.0\n",
            "9     5       1.0\n"
          ]
        }
      ],
      "source": [
        "import pandas as pd\n",
        "\n",
        "# create a sample DataFrame\n",
        "df = pd.DataFrame({'col1': [1, 2, 3, 1, 5,5,5,5,5,5]})\n",
        "\n",
        "# find all occurrences of 1 in 'col1'\n",
        "one_rows = df[df['col1'] == 1]\n",
        "\n",
        "# calculate the mean of 'col1' where 'col1' equals 1\n",
        "one_mean = one_rows['col1'].mean()\n",
        "\n",
        "# create a new column with the mean values\n",
        "df['one_mean'] = one_mean\n",
        "\n",
        "# update the mean column with the corresponding mean values where 'col1' equals 1\n",
        "df.loc[df['col1'] == 1, 'one_mean'] = one_mean\n",
        "\n",
        "print(df)\n"
      ]
    },
    {
      "cell_type": "code",
      "execution_count": null,
      "id": "4c462a7a",
      "metadata": {
        "id": "4c462a7a"
      },
      "outputs": [],
      "source": []
    }
  ],
  "metadata": {
    "kernelspec": {
      "display_name": "Python 3 (ipykernel)",
      "language": "python",
      "name": "python3"
    },
    "language_info": {
      "codemirror_mode": {
        "name": "ipython",
        "version": 3
      },
      "file_extension": ".py",
      "mimetype": "text/x-python",
      "name": "python",
      "nbconvert_exporter": "python",
      "pygments_lexer": "ipython3",
      "version": "3.10.4"
    },
    "colab": {
      "provenance": []
    }
  },
  "nbformat": 4,
  "nbformat_minor": 5
}